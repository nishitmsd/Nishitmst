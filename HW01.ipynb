{
  "nbformat": 4,
  "nbformat_minor": 0,
  "metadata": {
    "colab": {
      "name": "HW01.ipynb",
      "provenance": [],
      "collapsed_sections": [
        "s_6iPzDZoqQ_"
      ],
      "toc_visible": true,
      "authorship_tag": "ABX9TyOk//yhRTRV/psjs90ASL/P",
      "include_colab_link": true
    },
    "kernelspec": {
      "name": "python3",
      "display_name": "Python 3"
    },
    "language_info": {
      "name": "python"
    },
    "gpuClass": "standard",
    "accelerator": "TPU"
  },
  "cells": [
    {
      "cell_type": "markdown",
      "metadata": {
        "id": "view-in-github",
        "colab_type": "text"
      },
      "source": [
        "<a href=\"https://colab.research.google.com/github/nishitmsd/Nishitmst/blob/main/HW01.ipynb\" target=\"_parent\"><img src=\"https://colab.research.google.com/assets/colab-badge.svg\" alt=\"Open In Colab\"/></a>"
      ]
    },
    {
      "cell_type": "markdown",
      "source": [
        "#Concept Description:\n",
        "\n",
        "Determine the difference between data mining and machine learing. What languages used in them?"
      ],
      "metadata": {
        "id": "xMKdnlSFyaJ0"
      }
    },
    {
      "cell_type": "code",
      "source": [
        "#imported for data management dataframe\n",
        "import pandas as pd \n",
        "\n",
        "#imported to create word clouds. \n",
        "#This package need part of anaconda and need to installed conda install -c conda-forge wordcloud\n",
        "from wordcloud import wordcloud\n",
        "\n",
        "#imported to allow fot the display of word clouds \n",
        "import matplotlib.pyplot as plt\n"
      ],
      "metadata": {
        "id": "zm-hVUt5jRxf"
      },
      "execution_count": 2,
      "outputs": []
    },
    {
      "cell_type": "markdown",
      "source": [
        "#Data Collection:\n",
        "\n",
        "Google the search phrase \"what is data mining\" and \"what is machine learning\". For each search phrase, the first 14 results pages are browsed and search fir a block of text that starts with something aking to \"Data mining is...\" or \"Machine learning is...\". The text blocks are recoreded as examples along with the link of the page, the search phrase, and the date the results were pulled abd name of site the results were from.\n",
        "\n",
        "The results for each search phrase are saved in one comma separated file per each search phrase.\n"
      ],
      "metadata": {
        "id": "gs5R7k3VqFbJ"
      }
    },
    {
      "cell_type": "markdown",
      "source": [
        "#Example Description:\n",
        "Category-\n",
        "The search phrase that is searched. The catagory is a label\n",
        "\n",
        "PullDate-\n",
        "The date the search was obtained. the pull date is a date.\n",
        "\n",
        "Source-\n",
        "The name of the site that was retured as result. The source is a character string.\n",
        "\n",
        "Link-\n",
        "The link that was retured as a result. The link is a character string.\n",
        "\n",
        "Text-\n",
        "The text block that is was selected from the page that was returened as a result of the search. The text is a character string."
      ],
      "metadata": {
        "id": "E5M0yZs4p9nm"
      }
    },
    {
      "cell_type": "markdown",
      "source": [
        "#Data Imprt and Warngling:\n",
        "The reults of each search is read from the respective comma separated values file(cvs) into separate dataframe. Carefully,  attention is paid to make sure the data is read in as character strings."
      ],
      "metadata": {
        "id": "emzDkhKhu7bO"
      }
    },
    {
      "cell_type": "code",
      "source": [
        "df_mining = pd.read_csv(\"/content/data-mining.csv\") #filepath Access\n",
        "df_learning = pd.read_cvs(\"/content/machine-learning.csv\") #filepath Access\n"
      ],
      "metadata": {
        "id": "D7winLSHlVtj"
      },
      "execution_count": null,
      "outputs": []
    },
    {
      "cell_type": "markdown",
      "source": [
        "The text blocks from the results of a search is concatenated together into one large text string. The blank text were loaded in as \"NA\". We convert them back to empty text string beacuse wordcloud will not accept non-string data."
      ],
      "metadata": {
        "id": "l7OcpVmYva5G"
      }
    },
    {
      "cell_type": "code",
      "source": [
        "#convert all Text attribute values ti test strings \n",
        "str_mining = ''.join(list(df_mining['Text']))\n",
        "\n",
        "#Replace any Na values with a blank text string \n",
        "str_learing = ''.join(list(df_learning['Text'].fillna('')))\n",
        "\n",
        "#Create stopword list: extra point \n",
        "stopwords = set(STOPWORDS)\n",
        "stopwords.update([\"science\", \"program\", \"java\", \"c\", \"world\"])"
      ],
      "metadata": {
        "id": "p3PGchErl2Jp"
      },
      "execution_count": null,
      "outputs": []
    },
    {
      "cell_type": "markdown",
      "source": [
        "#Exploratory Data Analysis: \n",
        " Not applicable.\n",
        "\n",
        "#Mining or Analytics:\n",
        "Word cloud are generated for each search result"
      ],
      "metadata": {
        "id": "s_6iPzDZoqQ_"
      }
    },
    {
      "cell_type": "code",
      "source": [
        "wordcloud_mining = wordcloud().generate(str_mining)\n",
        "wordcloud_learning = wordcloud().generate(str_learing)\n",
        "\n",
        "# Generate a word cloud image\n",
        "wordcloud = WordCloud(stopwords=stopwords, background_color=\"white\").generate(text)\n",
        "\n",
        "# Display the generated image:\n",
        "# the matplotlib way:\n",
        "plt.imshow(wordcloud, interpolation='bilinear')\n",
        "plt.axis(\"off\")\n",
        "plt.show()"
      ],
      "metadata": {
        "id": "rOg4lBL4mrEL"
      },
      "execution_count": null,
      "outputs": []
    },
    {
      "cell_type": "markdown",
      "source": [
        "#Evalution:\n",
        " Not applicable\n",
        "\n",
        "#Results:\n",
        "The language used for data mining is simliar, but different than machine learning.\n",
        "\n",
        "As we know, Data mining is the process of extracting and discovering patterns from large dataset. \n",
        "Machine learning is \n",
        "\n",
        "The wordcloud generated for data mining has words like pattern, data, process, infromation and similarly to machine learning ... . Therefore from a given set of raw data we can generate wordcloud in order to get meaninggul information."
      ],
      "metadata": {
        "id": "cZqcDaemwW19"
      }
    },
    {
      "cell_type": "markdown",
      "source": [
        "#Reference: \n",
        "1. Lecture Note - CS5402 Intro to Data Mining.pptx\n",
        "2. Anaconda cloud. (2019). Wordcloud. Retrieved(2020, january 23) from https://anaconda.org/conda-forge/wordcloud\n"
      ],
      "metadata": {
        "id": "3lwe7eBdxbNK"
      }
    }
  ]
}